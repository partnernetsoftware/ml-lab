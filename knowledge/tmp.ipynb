{
 "cells": [
  {
   "cell_type": "code",
   "execution_count": 76,
   "metadata": {},
   "outputs": [
    {
     "data": {
      "text/latex": [
       "$\\displaystyle x$"
      ],
      "text/plain": [
       "x"
      ]
     },
     "metadata": {},
     "output_type": "display_data"
    },
    {
     "data": {
      "text/latex": [
       "$\\displaystyle y$"
      ],
      "text/plain": [
       "y"
      ]
     },
     "metadata": {},
     "output_type": "display_data"
    },
    {
     "data": {
      "text/latex": [
       "$$\\int e^{x} \\cos{\\left(x \\right)}\\, dx = \\frac{e^{x} \\sin{\\left(x \\right)}}{2} + \\frac{e^{x} \\cos{\\left(x \\right)}}{2}$$"
      ],
      "text/plain": [
       "<IPython.core.display.Latex object>"
      ]
     },
     "metadata": {},
     "output_type": "display_data"
    },
    {
     "data": {
      "text/latex": [
       "$$\\frac{d}{d x} e^{x} \\cos{\\left(x \\right)} = - e^{x} \\sin{\\left(x \\right)} + e^{x} \\cos{\\left(x \\right)}$$"
      ],
      "text/plain": [
       "<IPython.core.display.Latex object>"
      ]
     },
     "metadata": {},
     "output_type": "display_data"
    }
   ],
   "source": [
    "from IPython.display import display, Latex\n",
    "from sympy import *\n",
    "init_printing(use_latex='mathjax')\n",
    "\n",
    "x, y = symbols('x y')\n",
    "display(x,y)\n",
    "\n",
    "int_x = Integral(cos(x)*exp(x), x)\n",
    "result =\"$${} = {}$$\".format(latex(int_x), latex(int_x.doit()))\n",
    "display(Latex(result))\n",
    "\n",
    "derv_x = Derivative(cos(x)*exp(x), x)\n",
    "result =\"$${} = {}$$\".format(latex(derv_x), latex(derv_x.doit()))\n",
    "display(Latex(result))"
   ]
  },
  {
   "cell_type": "code",
   "execution_count": 46,
   "metadata": {},
   "outputs": [
    {
     "data": {
      "text/plain": [
       "(3+4j)"
      ]
     },
     "metadata": {},
     "output_type": "display_data"
    },
    {
     "data": {
      "image/png": "[encoded data removed]",
      "text/latex": [
       "$\\displaystyle \\frac{1}{3}$"
      ],
      "text/plain": [
       "1/3"
      ]
     },
     "metadata": {},
     "output_type": "display_data"
    },
    {
     "data": {
      "image/png": "[encoded data removed]",
      "text/latex": [
       "$\\displaystyle 2 \\sqrt{2}$"
      ],
      "text/plain": [
       "2⋅√2"
      ]
     },
     "metadata": {},
     "output_type": "display_data"
    },
    {
     "data": {
      "image/png": "[encoded data removed]",
      "text/latex": [
       "$\\displaystyle i$"
      ],
      "text/plain": [
       "ⅈ"
      ]
     },
     "metadata": {},
     "output_type": "display_data"
    },
    {
     "data": {
      "image/png": "[encoded data removed]",
      "text/latex": [
       "$\\displaystyle \\pi$"
      ],
      "text/plain": [
       "π"
      ]
     },
     "metadata": {},
     "output_type": "display_data"
    },
    {
     "data": {
      "image/png": "[encoded data removed]",
      "text/latex": [
       "$\\displaystyle e^{2}$"
      ],
      "text/plain": [
       " 2\n",
       "ℯ "
      ]
     },
     "metadata": {},
     "output_type": "display_data"
    },
    {
     "data": {
      "image/png": "[encoded data removed]",
      "text/latex": [
       "$\\displaystyle \\infty$"
      ],
      "text/plain": [
       "∞"
      ]
     },
     "metadata": {},
     "output_type": "display_data"
    },
    {
     "data": {
      "image/png": "[encoded data removed]",
      "text/latex": [
       "$\\displaystyle -\\infty$"
      ],
      "text/plain": [
       "-∞"
      ]
     },
     "metadata": {},
     "output_type": "display_data"
    }
   ],
   "source": [
    "from IPython.display import display\n",
    "\n",
    "def show(a, fmt='png'):\n",
    "    import PIL.Image\n",
    "    from io import BytesIO\n",
    "    import IPython.display\n",
    "    import numpy as np\n",
    "    f = BytesIO()\n",
    "    PIL.Image.fromarray(np.uint8(a)).save(f, fmt)\n",
    "    IPython.display.display(IPython.display.Image(data=f.getvalue()))\n",
    "    \n",
    "from sympy import *\n",
    "init_printing()\n",
    "3+4j, Rational(1,3), sqrt(8), sqrt(-1), pi, E**2, oo, -oo\n",
    "import IPython.display\n",
    "display(3+4j, Rational(1,3), sqrt(8), sqrt(-1), pi, E**2, oo, -oo)\n",
    "# x = symbols('x')\n",
    "# a = Integral(cos(x)*exp(x), x)\n",
    "# Eq(a, a.doit())"
   ]
  },
  {
   "cell_type": "code",
   "execution_count": 50,
   "metadata": {},
   "outputs": [
    {
     "data": {
      "image/png": "[encoded data removed]",
      "text/latex": [
       "$\\displaystyle \\alpha$"
      ],
      "text/plain": [
       "α"
      ]
     },
     "metadata": {},
     "output_type": "display_data"
    },
    {
     "data": {
      "image/png": "[encoded data removed]",
      "text/latex": [
       "$\\displaystyle \\beta$"
      ],
      "text/plain": [
       "β"
      ]
     },
     "metadata": {},
     "output_type": "display_data"
    },
    {
     "data": {
      "image/png": "[encoded data removed]",
      "text/latex": [
       "$\\displaystyle \\nu$"
      ],
      "text/plain": [
       "ν"
      ]
     },
     "metadata": {},
     "output_type": "display_data"
    }
   ],
   "source": [
    "alpha, beta, nu = symbols('alpha beta nu')\n",
    "display(alpha, beta, nu)"
   ]
  },
  {
   "cell_type": "code",
   "execution_count": 53,
   "metadata": {},
   "outputs": [
    {
     "data": {
      "image/png": "[encoded data removed]",
      "text/latex": [
       "$\\displaystyle \\left( \\alpha, \\  \\beta\\right)$"
      ],
      "text/plain": [
       "(α, β)"
      ]
     },
     "execution_count": 53,
     "metadata": {},
     "output_type": "execute_result"
    }
   ],
   "source": [
    "alpha, beta"
   ]
  },
  {
   "cell_type": "code",
   "execution_count": 54,
   "metadata": {},
   "outputs": [
    {
     "data": {
      "text/plain": [
       "((3+4j), 1/3, 2*sqrt(2), I, pi, exp(2), oo, -oo)"
      ]
     },
     "execution_count": 54,
     "metadata": {},
     "output_type": "execute_result"
    }
   ],
   "source": [
    "3+4j, Rational(1,3), sqrt(8), sqrt(-1), pi, E**2, oo, -oo"
   ]
  },
  {
   "cell_type": "code",
   "execution_count": 56,
   "metadata": {},
   "outputs": [
    {
     "data": {
      "image/png": "[encoded data removed]",
      "text/latex": [
       "$\\displaystyle e^{x} \\sin{\\left(x \\right)} + e^{x} \\cos{\\left(x \\right)}$"
      ],
      "text/plain": [
       " x           x       \n",
       "ℯ ⋅sin(x) + ℯ ⋅cos(x)"
      ]
     },
     "execution_count": 56,
     "metadata": {},
     "output_type": "execute_result"
    }
   ],
   "source": [
    "diff(sin(x)*exp(x),x)"
   ]
  },
  {
   "cell_type": "code",
   "execution_count": 57,
   "metadata": {},
   "outputs": [
    {
     "data": {
      "image/png": "[encoded data removed]",
      "text/latex": [
       "$\\displaystyle e^{x} \\sin{\\left(x \\right)}$"
      ],
      "text/plain": [
       " x       \n",
       "ℯ ⋅sin(x)"
      ]
     },
     "execution_count": 57,
     "metadata": {},
     "output_type": "execute_result"
    }
   ],
   "source": [
    "integrate(exp(x)*sin(x)+exp(x)*cos(x),x)"
   ]
  },
  {
   "cell_type": "code",
   "execution_count": 59,
   "metadata": {},
   "outputs": [
    {
     "data": {
      "image/png": "[encoded data removed]",
      "text/latex": [
       "$\\displaystyle \\frac{\\sqrt{2} \\sqrt{\\pi}}{2}$"
      ],
      "text/plain": [
       "√2⋅√π\n",
       "─────\n",
       "  2  "
      ]
     },
     "execution_count": 59,
     "metadata": {},
     "output_type": "execute_result"
    }
   ],
   "source": [
    "integrate(sin(x**2),(x,-oo,oo))"
   ]
  },
  {
   "cell_type": "code",
   "execution_count": 79,
   "metadata": {},
   "outputs": [
    {
     "name": "stdout",
     "output_type": "stream",
     "text": [
      "Here is an integral \n"
     ]
    },
    {
     "data": {
      "text/latex": [
       "$\\displaystyle \\left( \\int \\left(2 x^{2} + 3 x + 2\\right)\\, dx, \\  \\frac{2 x^{3}}{3} + \\frac{3 x^{2}}{2} + 2 x\\right)$"
      ],
      "text/plain": [
       "⎛⌠                         3      2      ⎞\n",
       "⎜⎮ ⎛   2          ⎞     2⋅x    3⋅x       ⎟\n",
       "⎜⎮ ⎝2⋅x  + 3⋅x + 2⎠ dx, ──── + ──── + 2⋅x⎟\n",
       "⎝⌡                       3      2        ⎠"
      ]
     },
     "execution_count": 79,
     "metadata": {},
     "output_type": "execute_result"
    }
   ],
   "source": [
    "import sympy\n",
    "from sympy import init_printing, Integral, Symbol\n",
    "\n",
    "x = Symbol('x')\n",
    "expr1 = 2*x**2 + 3*x + 2\n",
    "\n",
    "init_printing(use_latex='mathjax')\n",
    "print(\"Here is an integral \")\n",
    "Integral(expr1, x), sympy.integrate(expr1)"
   ]
  },
  {
   "cell_type": "code",
   "execution_count": 90,
   "metadata": {},
   "outputs": [
    {
     "name": "stdout",
     "output_type": "stream",
     "text": [
      "Here is list\n"
     ]
    },
    {
     "data": {
      "text/latex": [
       "$\\displaystyle \\left[ \\lim_{x \\to 0^+}\\left(\\frac{\\sin{\\left(x \\right)}}{x}\\right), \\  1\\right]$"
      ],
      "text/plain": [
       "⎡     ⎛sin(x)⎞   ⎤\n",
       "⎢ lim ⎜──────⎟, 1⎥\n",
       "⎣x─→0⁺⎝  x   ⎠   ⎦"
      ]
     },
     "execution_count": 90,
     "metadata": {},
     "output_type": "execute_result"
    }
   ],
   "source": [
    "import sympy\n",
    "from sympy import init_printing, Integral, Symbol\n",
    "\n",
    "x = Symbol('x')\n",
    "expr1 = 2*x**2 + 3*x + 2\n",
    "\n",
    "init_printing(use_latex='mathjax')\n",
    "print(\"Here is list\")\n",
    "expr = Limit(sin(x)/x,x,0)\n",
    "[expr,expr.doit()]"
   ]
  },
  {
   "cell_type": "code",
   "execution_count": 91,
   "metadata": {},
   "outputs": [
    {
     "name": "stdout",
     "output_type": "stream",
     "text": [
      "Here is list\n"
     ]
    },
    {
     "data": {
      "text/latex": [
       "$\\displaystyle \\left( \\lim_{x \\to 0^+}\\left(\\frac{\\sin{\\left(x \\right)}}{x}\\right), \\  1\\right)$"
      ],
      "text/plain": [
       "⎛     ⎛sin(x)⎞   ⎞\n",
       "⎜ lim ⎜──────⎟, 1⎟\n",
       "⎝x─→0⁺⎝  x   ⎠   ⎠"
      ]
     },
     "execution_count": 91,
     "metadata": {},
     "output_type": "execute_result"
    }
   ],
   "source": [
    "import sympy\n",
    "from sympy import init_printing, Integral, Symbol\n",
    "\n",
    "x = Symbol('x')\n",
    "expr1 = 2*x**2 + 3*x + 2\n",
    "\n",
    "init_printing(use_latex='mathjax')\n",
    "print(\"Here is list\")\n",
    "expr = Limit(sin(x)/x,x,0)\n",
    "expr,expr.doit()"
   ]
  },
  {
   "cell_type": "code",
   "execution_count": 93,
   "metadata": {},
   "outputs": [
    {
     "data": {
      "text/latex": [
       "$\\displaystyle \\left[ - i, \\  i\\right]$"
      ],
      "text/plain": [
       "[-ⅈ, ⅈ]"
      ]
     },
     "execution_count": 93,
     "metadata": {},
     "output_type": "execute_result"
    }
   ],
   "source": [
    "solve(x**2+1, x)"
   ]
  },
  {
   "cell_type": "code",
   "execution_count": 92,
   "metadata": {},
   "outputs": [
    {
     "data": {
      "text/latex": [
       "$\\displaystyle \\left[ - \\sqrt{2}, \\  \\sqrt{2}\\right]$"
      ],
      "text/plain": [
       "[-√2, √2]"
      ]
     },
     "execution_count": 92,
     "metadata": {},
     "output_type": "execute_result"
    }
   ],
   "source": [
    "solve(x**2 - 2, x)"
   ]
  },
  {
   "cell_type": "code",
   "execution_count": 97,
   "metadata": {},
   "outputs": [
    {
     "data": {
      "text/latex": [
       "$\\displaystyle \\left( - y{\\left(t \\right)} + \\frac{d^{2}}{d t^{2}} y{\\left(t \\right)} = e^{t}, \\  y{\\left(t \\right)}\\right)$"
      ],
      "text/plain": [
       "⎛          2                 ⎞\n",
       "⎜         d           t      ⎟\n",
       "⎜-y(t) + ───(y(t)) = ℯ , y(t)⎟\n",
       "⎜          2                 ⎟\n",
       "⎝        dt                  ⎠"
      ]
     },
     "execution_count": 97,
     "metadata": {},
     "output_type": "execute_result"
    }
   ],
   "source": [
    "y = Function('y')\n",
    "t = symbols('t')\n",
    "expr = Eq(y(t).diff(t,t) - y(t), exp(t))\n",
    "expr,y(t)"
   ]
  },
  {
   "cell_type": "code",
   "execution_count": 99,
   "metadata": {},
   "outputs": [
    {
     "data": {
      "text/latex": [
       "$\\displaystyle y{\\left(t \\right)} = C_{2} e^{- t} + \\left(C_{1} + \\frac{t}{2}\\right) e^{t}$"
      ],
      "text/plain": [
       "           -t   ⎛     t⎞  t\n",
       "y(t) = C₂⋅ℯ   + ⎜C₁ + ─⎟⋅ℯ \n",
       "                ⎝     2⎠   "
      ]
     },
     "execution_count": 99,
     "metadata": {},
     "output_type": "execute_result"
    }
   ],
   "source": [
    "dsolve(expr,y(t))"
   ]
  },
  {
   "cell_type": "code",
   "execution_count": 100,
   "metadata": {},
   "outputs": [
    {
     "data": {
      "text/plain": [
       "'- y{\\\\left(t \\\\right)} + \\\\frac{d^{2}}{d t^{2}} y{\\\\left(t \\\\right)} = e^{t}'"
      ]
     },
     "execution_count": 100,
     "metadata": {},
     "output_type": "execute_result"
    }
   ],
   "source": [
    "latex(expr)"
   ]
  },
  {
   "cell_type": "code",
   "execution_count": 101,
   "metadata": {},
   "outputs": [
    {
     "data": {
      "image/png": "[encoded data removed]",
      "text/plain": [
       "<Figure size 432x288 with 1 Axes>"
      ]
     },
     "metadata": {
      "needs_background": "light"
     },
     "output_type": "display_data"
    }
   ],
   "source": [
    "from sympy.plotting import plot\n",
    "x = symbols('x')\n",
    "p = plot(2*x+3, 3*x+1, legend=True, show=False)\n",
    "p.show()"
   ]
  },
  {
   "cell_type": "code",
   "execution_count": 102,
   "metadata": {},
   "outputs": [
    {
     "data": {
      "text/latex": [
       "$\\displaystyle \\left( Idx\\left(i, \\left( 0, \\  2\\right)\\right), \\  Idx\\left(j, \\left( 0, \\  2\\right)\\right), \\  Idx\\left(k, \\left( 0, \\  2\\right)\\right), \\  Idx\\left(l, \\left( 0, \\  2\\right)\\right), \\  F\\right)$"
      ],
      "text/plain": [
       "(i, j, k, l, F)"
      ]
     },
     "execution_count": 102,
     "metadata": {},
     "output_type": "execute_result"
    }
   ],
   "source": [
    "i = tensor.Idx('i',3)\n",
    "j = tensor.Idx('j',3)\n",
    "k = tensor.Idx('k',3)\n",
    "l = tensor.Idx('l',3)\n",
    "\n",
    "F = MatrixSymbol('F', 3, 3)\n",
    "i,j,k,l,F"
   ]
  },
  {
   "cell_type": "code",
   "execution_count": 116,
   "metadata": {},
   "outputs": [
    {
     "data": {
      "text/latex": [
       "$\\displaystyle \\left[\\begin{matrix}\\left[\\begin{matrix}a w_{1} & a w_{2} & a w_{3}\\\\b w_{1} & b w_{2} & b w_{3}\\\\c w_{1} & c w_{2} & c w_{3}\\end{matrix}\\right] & \\left[\\begin{matrix}d w_{1} & d w_{2} & d w_{3}\\\\e w_{1} & e w_{2} & e w_{3}\\\\f w_{1} & f w_{2} & f w_{3}\\end{matrix}\\right]\\end{matrix}\\right]$"
      ],
      "text/plain": [
       "⎡⎡a⋅w₁  a⋅w₂  a⋅w₃⎤  ⎡d⋅w₁  d⋅w₂  d⋅w₃⎤⎤\n",
       "⎢⎢                ⎥  ⎢                ⎥⎥\n",
       "⎢⎢b⋅w₁  b⋅w₂  b⋅w₃⎥  ⎢e⋅w₁  e⋅w₂  e⋅w₃⎥⎥\n",
       "⎢⎢                ⎥  ⎢                ⎥⎥\n",
       "⎣⎣c⋅w₁  c⋅w₂  c⋅w₃⎦  ⎣f⋅w₁  f⋅w₂  f⋅w₃⎦⎦"
      ]
     },
     "execution_count": 116,
     "metadata": {},
     "output_type": "execute_result"
    }
   ],
   "source": [
    "from sympy.tensor.array import *\n",
    "var(\"a,b,c,d,e,f\")\n",
    "X = Array([[a, b, c], [d, e, f]])\n",
    "X\n",
    "var(\"w1,w2,w3\")\n",
    "W = Array([w1, w2, w3])\n",
    "W\n",
    "tp = tensorproduct(X, W)\n",
    "tp"
   ]
  },
  {
   "cell_type": "code",
   "execution_count": 113,
   "metadata": {},
   "outputs": [
    {
     "data": {
      "text/latex": [
       "$\\displaystyle a w_{1} + b w_{2} + c w_{3} + d w_{1} + e w_{2} + f w_{3}$"
      ],
      "text/plain": [
       "a⋅w₁ + b⋅w₂ + c⋅w₃ + d⋅w₁ + e⋅w₂ + f⋅w₃"
      ]
     },
     "execution_count": 113,
     "metadata": {},
     "output_type": "execute_result"
    }
   ],
   "source": [
    "stc = sum(tensorcontraction(tp, (1, 2)))\n",
    "stc"
   ]
  },
  {
   "cell_type": "code",
   "execution_count": 117,
   "metadata": {},
   "outputs": [
    {
     "data": {
      "text/latex": [
       "$\\displaystyle \\left[\\begin{matrix}a + d & b + e & c + f\\end{matrix}\\right]$"
      ],
      "text/plain": [
       "[a + d  b + e  c + f]"
      ]
     },
     "execution_count": 117,
     "metadata": {},
     "output_type": "execute_result"
    }
   ],
   "source": [
    "derive_by_array(stc, W)"
   ]
  },
  {
   "cell_type": "code",
   "execution_count": 118,
   "metadata": {},
   "outputs": [
    {
     "data": {
      "text/latex": [
       "$\\displaystyle \\sum_{\\substack{1 \\leq i \\leq M\\\\1 \\leq j \\leq K}} {W}_{j} {X}_{i,j}$"
      ],
      "text/plain": [
       "  K     M               \n",
       " ___   ___              \n",
       " ╲     ╲                \n",
       "  ╲     ╲               \n",
       "  ╱     ╱   W[j]⋅X[i, j]\n",
       " ╱     ╱                \n",
       " ‾‾‾   ‾‾‾              \n",
       "j = 1 i = 1             "
      ]
     },
     "execution_count": 118,
     "metadata": {},
     "output_type": "execute_result"
    }
   ],
   "source": [
    "X = IndexedBase(\"X\")\n",
    "W = IndexedBase(\"W\")\n",
    "var(\"i,j,M,K\", integer=True)\n",
    "s = Sum(X[i, j]*W[j], (i, 1, M), (j, 1, K))\n",
    "s"
   ]
  },
  {
   "cell_type": "code",
   "execution_count": 119,
   "metadata": {},
   "outputs": [
    {
     "data": {
      "text/latex": [
       "$\\displaystyle \\sum_{\\substack{1 \\leq i \\leq M\\\\1 \\leq j \\leq K}} {X}_{i,j}$"
      ],
      "text/plain": [
       "  K     M          \n",
       " ___   ___         \n",
       " ╲     ╲           \n",
       "  ╲     ╲          \n",
       "  ╱     ╱   X[i, j]\n",
       " ╱     ╱           \n",
       " ‾‾‾   ‾‾‾         \n",
       "j = 1 i = 1        "
      ]
     },
     "execution_count": 119,
     "metadata": {},
     "output_type": "execute_result"
    }
   ],
   "source": [
    "s.diff(W[j])"
   ]
  },
  {
   "cell_type": "code",
   "execution_count": 120,
   "metadata": {},
   "outputs": [
    {
     "data": {
      "text/latex": [
       "$\\displaystyle \\sum_{\\substack{1 \\leq i \\leq M\\\\1 \\leq j \\leq K}} \\delta_{j Idx\\left(k, \\left( 0, \\  2\\right)\\right)} {X}_{i,j}$"
      ],
      "text/plain": [
       "  K     M               \n",
       " ___   ___              \n",
       " ╲     ╲                \n",
       "  ╲     ╲   δ   ⋅X[i, j]\n",
       "  ╱     ╱    j,k        \n",
       " ╱     ╱                \n",
       " ‾‾‾   ‾‾‾              \n",
       "j = 1 i = 1             "
      ]
     },
     "execution_count": 120,
     "metadata": {},
     "output_type": "execute_result"
    }
   ],
   "source": [
    "s.diff(W[k])"
   ]
  },
  {
   "cell_type": "code",
   "execution_count": 122,
   "metadata": {},
   "outputs": [
    {
     "data": {
      "text/latex": [
       "$\\displaystyle \\left[\\begin{matrix}\\left[\\begin{matrix}1 & 2 & 3\\\\2 & 3 & 4\\\\3 & 4 & 5\\end{matrix}\\right] & \\left[\\begin{matrix}1 & 2 & 3\\\\2 & 3 & 4\\\\3 & 4 & 5\\end{matrix}\\right]\\end{matrix}\\right]$"
      ],
      "text/plain": [
       "⎡⎡1  2  3⎤  ⎡1  2  3⎤⎤\n",
       "⎢⎢       ⎥  ⎢       ⎥⎥\n",
       "⎢⎢2  3  4⎥  ⎢2  3  4⎥⎥\n",
       "⎢⎢       ⎥  ⎢       ⎥⎥\n",
       "⎣⎣3  4  5⎦  ⎣3  4  5⎦⎦"
      ]
     },
     "execution_count": 122,
     "metadata": {},
     "output_type": "execute_result"
    }
   ],
   "source": [
    "# https://docs.sympy.org/latest/modules/tensor/array.html\n",
    "\n",
    "Array([[[1,2,3],[2,3,4],[3,4,5]],[[1,2,3],[2,3,4],[3,4,5]]])\n",
    ")"
   ]
  },
  {
   "cell_type": "code",
   "execution_count": 140,
   "metadata": {},
   "outputs": [
    {
     "ename": "TypeError",
     "evalue": "Dot product is between two vectors",
     "output_type": "error",
     "traceback": [
      "\u001b[0;31m---------------------------------------------------------------------------\u001b[0m",
      "\u001b[0;31mTypeError\u001b[0m                                 Traceback (most recent call last)",
      "\u001b[0;32m<ipython-input-140-fc8258510272>\u001b[0m in \u001b[0;36m<module>\u001b[0;34m\u001b[0m\n\u001b[1;32m      4\u001b[0m \u001b[0mc\u001b[0m\u001b[0;34m=\u001b[0m\u001b[0mtensorproduct\u001b[0m\u001b[0;34m(\u001b[0m\u001b[0ma\u001b[0m\u001b[0;34m,\u001b[0m\u001b[0mb\u001b[0m\u001b[0;34m)\u001b[0m\u001b[0;34m\u001b[0m\u001b[0;34m\u001b[0m\u001b[0m\n\u001b[1;32m      5\u001b[0m \u001b[0md\u001b[0m\u001b[0;34m=\u001b[0m\u001b[0mtensorproduct\u001b[0m\u001b[0;34m(\u001b[0m\u001b[0mb\u001b[0m\u001b[0;34m,\u001b[0m\u001b[0ma\u001b[0m\u001b[0;34m)\u001b[0m\u001b[0;34m\u001b[0m\u001b[0;34m\u001b[0m\u001b[0m\n\u001b[0;32m----> 6\u001b[0;31m \u001b[0mdot\u001b[0m\u001b[0;34m(\u001b[0m\u001b[0ma\u001b[0m\u001b[0;34m,\u001b[0m\u001b[0mb\u001b[0m\u001b[0;34m)\u001b[0m\u001b[0;34m\u001b[0m\u001b[0;34m\u001b[0m\u001b[0m\n\u001b[0m",
      "\u001b[0;32m/usr/local/anaconda3/lib/python3.8/site-packages/sympy/physics/vector/functions.py\u001b[0m in \u001b[0;36mdot\u001b[0;34m(vec1, vec2)\u001b[0m\n\u001b[1;32m     29\u001b[0m     \u001b[0;34m\"\"\"Dot product convenience wrapper for Vector.dot(): \\n\"\"\"\u001b[0m\u001b[0;34m\u001b[0m\u001b[0;34m\u001b[0m\u001b[0m\n\u001b[1;32m     30\u001b[0m     \u001b[0;32mif\u001b[0m \u001b[0;32mnot\u001b[0m \u001b[0misinstance\u001b[0m\u001b[0;34m(\u001b[0m\u001b[0mvec1\u001b[0m\u001b[0;34m,\u001b[0m \u001b[0;34m(\u001b[0m\u001b[0mVector\u001b[0m\u001b[0;34m,\u001b[0m \u001b[0mDyadic\u001b[0m\u001b[0;34m)\u001b[0m\u001b[0;34m)\u001b[0m\u001b[0;34m:\u001b[0m\u001b[0;34m\u001b[0m\u001b[0;34m\u001b[0m\u001b[0m\n\u001b[0;32m---> 31\u001b[0;31m         \u001b[0;32mraise\u001b[0m \u001b[0mTypeError\u001b[0m\u001b[0;34m(\u001b[0m\u001b[0;34m'Dot product is between two vectors'\u001b[0m\u001b[0;34m)\u001b[0m\u001b[0;34m\u001b[0m\u001b[0;34m\u001b[0m\u001b[0m\n\u001b[0m\u001b[1;32m     32\u001b[0m     \u001b[0;32mreturn\u001b[0m \u001b[0mvec1\u001b[0m \u001b[0;34m&\u001b[0m \u001b[0mvec2\u001b[0m\u001b[0;34m\u001b[0m\u001b[0;34m\u001b[0m\u001b[0m\n\u001b[1;32m     33\u001b[0m \u001b[0mdot\u001b[0m\u001b[0;34m.\u001b[0m\u001b[0m__doc__\u001b[0m \u001b[0;34m+=\u001b[0m \u001b[0mVector\u001b[0m\u001b[0;34m.\u001b[0m\u001b[0mdot\u001b[0m\u001b[0;34m.\u001b[0m\u001b[0m__doc__\u001b[0m  \u001b[0;31m# type: ignore\u001b[0m\u001b[0;34m\u001b[0m\u001b[0;34m\u001b[0m\u001b[0m\n",
      "\u001b[0;31mTypeError\u001b[0m: Dot product is between two vectors"
     ]
    }
   ],
   "source": [
    "from sympy.physics.mechanics import *\n",
    "a = Array([1,2,3,4])\n",
    "b = Array([2,3,4,5])\n",
    "c=tensorproduct(a,b)\n",
    "d=tensorproduct(b,a)\n",
    "dot(a,b)"
   ]
  },
  {
   "cell_type": "code",
   "execution_count": null,
   "metadata": {},
   "outputs": [],
   "source": []
  }
 ],
 "metadata": {
  "kernelspec": {
   "display_name": "Python 3",
   "language": "python",
   "name": "python3"
  },
  "language_info": {
   "codemirror_mode": {
    "name": "ipython",
    "version": 3
   },
   "file_extension": ".py",
   "mimetype": "text/x-python",
   "name": "python",
   "nbconvert_exporter": "python",
   "pygments_lexer": "ipython3",
   "version": "3.8.3"
  }
 },
 "nbformat": 4,
 "nbformat_minor": 4
}
